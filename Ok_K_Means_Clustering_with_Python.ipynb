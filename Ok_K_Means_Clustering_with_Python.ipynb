{
  "metadata": {
    "kernelspec": {
      "language": "python",
      "display_name": "Python 3",
      "name": "python3"
    },
    "language_info": {
      "pygments_lexer": "ipython3",
      "nbconvert_exporter": "python",
      "version": "3.6.4",
      "file_extension": ".py",
      "codemirror_mode": {
        "name": "ipython",
        "version": 3
      },
      "name": "python",
      "mimetype": "text/x-python"
    },
    "kaggle": {
      "accelerator": "none",
      "dataSources": [
        {
          "sourceId": 545527,
          "sourceType": "datasetVersion",
          "datasetId": 260377
        }
      ],
      "dockerImageVersionId": 29849,
      "isInternetEnabled": false,
      "language": "python",
      "sourceType": "notebook",
      "isGpuEnabled": false
    },
    "colab": {
      "name": "K-Means Clustering with Python",
      "provenance": [],
      "include_colab_link": true
    }
  },
  "nbformat_minor": 0,
  "nbformat": 4,
  "cells": [
    {
      "cell_type": "markdown",
      "metadata": {
        "id": "view-in-github",
        "colab_type": "text"
      },
      "source": [
        "<a href=\"https://colab.research.google.com/github/kantiprane123/Image-Processing/blob/main/Ok_K_Means_Clustering_with_Python.ipynb\" target=\"_parent\"><img src=\"https://colab.research.google.com/assets/colab-badge.svg\" alt=\"Open In Colab\"/></a>"
      ]
    },
    {
      "cell_type": "code",
      "source": [
        "!pip install kaggle"
      ],
      "metadata": {
        "id": "ohRKgzcsK1gn",
        "outputId": "f098f8b2-ba37-40bf-8c71-52a3eb0a945f",
        "colab": {
          "base_uri": "https://localhost:8080/"
        }
      },
      "execution_count": 4,
      "outputs": [
        {
          "output_type": "stream",
          "name": "stdout",
          "text": [
            "Requirement already satisfied: kaggle in /usr/local/lib/python3.11/dist-packages (1.6.17)\n",
            "Requirement already satisfied: six>=1.10 in /usr/local/lib/python3.11/dist-packages (from kaggle) (1.17.0)\n",
            "Requirement already satisfied: certifi>=2023.7.22 in /usr/local/lib/python3.11/dist-packages (from kaggle) (2025.1.31)\n",
            "Requirement already satisfied: python-dateutil in /usr/local/lib/python3.11/dist-packages (from kaggle) (2.8.2)\n",
            "Requirement already satisfied: requests in /usr/local/lib/python3.11/dist-packages (from kaggle) (2.32.3)\n",
            "Requirement already satisfied: tqdm in /usr/local/lib/python3.11/dist-packages (from kaggle) (4.67.1)\n",
            "Requirement already satisfied: python-slugify in /usr/local/lib/python3.11/dist-packages (from kaggle) (8.0.4)\n",
            "Requirement already satisfied: urllib3 in /usr/local/lib/python3.11/dist-packages (from kaggle) (2.3.0)\n",
            "Requirement already satisfied: bleach in /usr/local/lib/python3.11/dist-packages (from kaggle) (6.2.0)\n",
            "Requirement already satisfied: webencodings in /usr/local/lib/python3.11/dist-packages (from bleach->kaggle) (0.5.1)\n",
            "Requirement already satisfied: text-unidecode>=1.3 in /usr/local/lib/python3.11/dist-packages (from python-slugify->kaggle) (1.3)\n",
            "Requirement already satisfied: charset-normalizer<4,>=2 in /usr/local/lib/python3.11/dist-packages (from requests->kaggle) (3.4.1)\n",
            "Requirement already satisfied: idna<4,>=2.5 in /usr/local/lib/python3.11/dist-packages (from requests->kaggle) (3.10)\n"
          ]
        }
      ]
    },
    {
      "cell_type": "code",
      "source": [
        "!kaggle datasets download -d ashishg21/facebook-live-sellers-in-thailand-uci-ml-repo\n"
      ],
      "metadata": {
        "id": "XP9lEhb_K1tP",
        "outputId": "9a3a5ed2-10d9-4e41-bf47-ff9b2ab5fa6c",
        "colab": {
          "base_uri": "https://localhost:8080/"
        }
      },
      "execution_count": 5,
      "outputs": [
        {
          "output_type": "stream",
          "name": "stdout",
          "text": [
            "Warning: Looks like you're using an outdated API Version, please consider updating (server 1.7.4 / client 1.6.17)\n",
            "Dataset URL: https://www.kaggle.com/datasets/ashishg21/facebook-live-sellers-in-thailand-uci-ml-repo\n",
            "License(s): unknown\n",
            "Downloading facebook-live-sellers-in-thailand-uci-ml-repo.zip to /content\n",
            "  0% 0.00/138k [00:00<?, ?B/s]\n",
            "100% 138k/138k [00:00<00:00, 30.5MB/s]\n",
            "Archive:  facebook-live-sellers-in-thailand-uci-ml-repo.zip\n",
            "  inflating: facebook_live_data/Live.csv  \n"
          ]
        }
      ]
    },
    {
      "cell_type": "code",
      "source": [
        "!unzip facebook-live-sellers-in-thailand-uci-ml-repo.zip -d facebook_live_data"
      ],
      "metadata": {
        "id": "SvY1bGunOJX4",
        "outputId": "e42bfde6-283c-4cea-d95e-512334ad9ae2",
        "colab": {
          "base_uri": "https://localhost:8080/"
        }
      },
      "execution_count": 6,
      "outputs": [
        {
          "output_type": "stream",
          "name": "stdout",
          "text": [
            "Archive:  facebook-live-sellers-in-thailand-uci-ml-repo.zip\n",
            "replace facebook_live_data/Live.csv? [y]es, [n]o, [A]ll, [N]one, [r]ename: y\n",
            "  inflating: facebook_live_data/Live.csv  \n"
          ]
        }
      ]
    },
    {
      "cell_type": "markdown",
      "source": [
        "<a class=\"anchor\" id=\"0\"></a>\n",
        "# **K-Means Clustering with Python**\n",
        "\n",
        "Hello friends,\n",
        "\n",
        "**K-Means clustering** is the most popular unsupervised machine learning algorithm. K-Means clustering is used to find intrinsic groups within the unlabelled dataset and draw inferences from them. In this kernel, I implement K-Means clustering to find intrinsic groups within the dataset that display the same `status_type` behaviour. The `status_type` behaviour variable consists of posts of a different nature (video, photos, statuses and links).\n",
        "\n",
        "\n",
        "So, let's get started."
      ],
      "metadata": {
        "id": "jt9u1iWwI7NM"
      }
    },
    {
      "cell_type": "markdown",
      "source": [
        "**As always, I hope you find this kernel useful and some <font color=\"red\"><b>UPVOTES</b></font> would be highly appreciated**."
      ],
      "metadata": {
        "trusted": true,
        "id": "ZFoRdsHkI7NM"
      }
    },
    {
      "cell_type": "markdown",
      "source": [
        "<a class=\"anchor\" id=\"0.1\"></a>\n",
        "# **Table of Contents**\n",
        "\n",
        "\n",
        "1.\t[Introduction to K-Means Clustering](#1)\n",
        "1.  [Applications of clustering](#2)\n",
        "1.\t[K-Means Clustering intuition](#3)\n",
        "1.\t[Choosing the value of K](#4)\n",
        "1.\t[The elbow method](#5)\n",
        "1.  [Import libraries](#6)\n",
        "1.\t[Import dataset](#7)\n",
        "1.\t[Exploratory data analysis](#8)\n",
        "1.\t[Declare feature vector and target variable](#9)\n",
        "1.\t[Convert categorical variable into integers](#10)\n",
        "1.\t[Feature scaling](#11)\n",
        "1.\t[K-Means model with two clusters](#12)\n",
        "1.\t[K-Means model parameters study](#13)\n",
        "1.\t[Check quality of weak classification by the model](#14)\n",
        "1.\t[Use elbow method to find optimal number of clusters](#15)\n",
        "1.\t[K-Means model with different clusters](#16)\n",
        "1.\t[Results and conclusion](#17)\n",
        "1.  [References](#18)\n"
      ],
      "metadata": {
        "id": "ARdIfiHsI7NM"
      }
    },
    {
      "cell_type": "markdown",
      "source": [
        "# **1. Introduction to K-Means Clustering** <a class=\"anchor\" id=\"1\"></a>\n",
        "\n",
        "[Table of Contents](#0.1)\n",
        "\n",
        "\n",
        "Machine learning algorithms can be broadly classified into two categories - supervised and unsupervised learning. There are other categories also like semi-supervised learning and reinforcement learning. But, most of the algorithms are classified as supervised or unsupervised learning. The difference between them happens because of presence of target variable. In unsupervised learning, there is no target variable. The dataset only has input variables which describe the data. This is called unsupervised learning.\n",
        "\n",
        "**K-Means clustering** is the most popular unsupervised learning algorithm. It is used when we have unlabelled data which is data without defined categories or groups. The algorithm follows an easy or simple way to classify a given data set through a certain number of clusters, fixed apriori. K-Means algorithm works iteratively to assign each data point to one of K groups based on the features that are provided. Data points are clustered based on feature similarity.\n",
        "\n",
        "K-Means clustering can be represented diagrammatically as follows:-\n"
      ],
      "metadata": {
        "id": "PztXe-xaI7NN"
      }
    },
    {
      "cell_type": "markdown",
      "source": [
        "## K-Means\n",
        "\n",
        "![K-Means](https://miro.medium.com/max/2160/1*tWaaZX75oumVwBMcKN-eHA.png)"
      ],
      "metadata": {
        "id": "a_fduAypI7NN"
      }
    },
    {
      "cell_type": "markdown",
      "source": [
        "# **2. Applications of clustering** <a class=\"anchor\" id=\"2\"></a>\n",
        "\n",
        "[Table of Contents](#0.1)\n",
        "\n",
        "\n",
        "- K-Means clustering is the most common unsupervised machine learning algorithm. It is widely used for many applications which include-\n",
        "\n",
        "  1. Image segmentation\n",
        "\n",
        "  2. Customer segmentation\n",
        "\n",
        "  3. Species clustering\n",
        "\n",
        "  4. Anomaly detection\n",
        "\n",
        "  5. Clustering languages"
      ],
      "metadata": {
        "id": "GeetB30qI7NN"
      }
    },
    {
      "cell_type": "markdown",
      "source": [
        "# **3. K-Means Clustering intuition** <a class=\"anchor\" id=\"3\"></a>\n",
        "\n",
        "[Table of Contents](#0.1)\n",
        "\n",
        "\n",
        "K-Means clustering is used to find intrinsic groups within the unlabelled dataset and draw inferences from them. It is based on centroid-based clustering.\n",
        "\n",
        "\n",
        "**Centroid** - A centroid is a data point at the centre of a cluster. In centroid-based clustering, clusters are represented by a centroid. It is an iterative algorithm in which the notion of similarity is derived by how close a data point is to the centroid of the cluster.\n",
        "K-Means clustering works as follows:-\n",
        "The K-Means clustering algorithm uses an iterative procedure to deliver a final result. The algorithm requires number of clusters K and the data set as input. The data set is a collection of features for each data point. The algorithm starts with initial estimates for the K centroids. The algorithm then iterates between two steps:-\n",
        "\n",
        "\n",
        "## **3.1 Data assignment step**\n",
        "\n",
        "\n",
        "Each centroid defines one of the clusters. In this step, each data point is assigned to its nearest centroid, which is based on the squared Euclidean distance. So, if ci is the collection of centroids in set C, then each data point is assigned to a cluster based on minimum Euclidean distance.\n",
        "\n",
        "\n",
        "\n",
        "## **3.2 Centroid update step**\n",
        "\n",
        "\n",
        "In this step, the centroids are recomputed and updated. This is done by taking the mean of all data points assigned to that centroid’s cluster.\n",
        "\n",
        "\n",
        "The algorithm then iterates between step 1 and step 2 until a stopping criteria is met. Stopping criteria means no data points change the clusters, the sum of the distances is minimized or some maximum number of iterations is reached.\n",
        "This algorithm is guaranteed to converge to a result. The result may be a local optimum meaning that assessing more than one run of the algorithm with randomized starting centroids may give a better outcome.\n",
        "\n",
        "The K-Means intuition can be represented with the help of following diagram:-\n"
      ],
      "metadata": {
        "id": "zV9EkvkwI7NN"
      }
    },
    {
      "cell_type": "markdown",
      "source": [
        "## K-Means intuition\n",
        "![K-Means intuition](https://i.ytimg.com/vi/_aWzGGNrcic/hqdefault.jpg)"
      ],
      "metadata": {
        "id": "GziA5OULI7NN"
      }
    },
    {
      "cell_type": "markdown",
      "source": [
        "# **4. Choosing the value of K** <a class=\"anchor\" id=\"4\"></a>\n",
        "\n",
        "[Table of Contents](#0.1)\n",
        "\n",
        "\n",
        "The K-Means algorithm depends upon finding the number of clusters and data labels for a pre-defined value of K. To find the number of clusters in the data, we need to run the K-Means clustering algorithm for different values of K and compare the results. So, the performance of K-Means algorithm depends upon the value of K. We should choose the optimal value of K that gives us best performance. There are different techniques available to find the optimal value of K. The most common technique is the **elbow method** which is described below.\n"
      ],
      "metadata": {
        "id": "q5PB_JyXI7NN"
      }
    },
    {
      "cell_type": "markdown",
      "source": [
        "# **5. The elbow method** <a class=\"anchor\" id=\"5\"></a>\n",
        "\n",
        "[Table of Contents](#0.1)\n",
        "\n",
        "\n",
        "The elbow method is used to determine the optimal number of clusters in K-means clustering. The elbow method plots the value of the cost function produced by different values of K. The below diagram shows how the elbow method works:-"
      ],
      "metadata": {
        "id": "QwJYALxsI7NN"
      }
    },
    {
      "cell_type": "markdown",
      "source": [
        "## The elbow method\n",
        "\n",
        "![Elbow method in K-Means](https://www.oreilly.com/library/view/statistics-for-machine/9781788295758/assets/995b8b58-06f1-4884-a2a1-f3648428e947.png)"
      ],
      "metadata": {
        "id": "bgsSrQ5uI7NO"
      }
    },
    {
      "cell_type": "markdown",
      "source": [
        "We can see that if K increases, average distortion will decrease.  Then each cluster will have fewer constituent instances, and the instances will be closer to their respective centroids. However, the improvements in average distortion will decline as K increases. The value of K at which improvement in distortion declines the most is called the elbow, at which we should stop dividing the data into further clusters.\n"
      ],
      "metadata": {
        "id": "0lcoHzYJI7NO"
      }
    },
    {
      "cell_type": "markdown",
      "source": [
        "# **6. Import libraries** <a class=\"anchor\" id=\"6\"></a>\n",
        "\n",
        "[Table of Contents](#0.1)\n"
      ],
      "metadata": {
        "id": "lG3JTEf2I7NO"
      }
    },
    {
      "cell_type": "code",
      "source": [
        "# This Python 3 environment comes with many helpful analytics libraries installed\n",
        "# It is defined by the kaggle/python docker image: https://github.com/kaggle/docker-python\n",
        "# For example, here's several helpful packages to load in\n",
        "\n",
        "import numpy as np # linear algebra\n",
        "import pandas as pd # data processing, CSV file I/O (e.g. pd.read_csv)\n",
        "import matplotlib.pyplot as plt # for data visualization\n",
        "import seaborn as sns # for statistical data visualization\n",
        "%matplotlib inline\n",
        "\n",
        "# Input data files are available in the \"../input/\" directory.\n",
        "# For example, running this (by clicking run or pressing Shift+Enter) will list all files under the input directory\n",
        "\n",
        "import os\n",
        "for dirname, _, filenames in os.walk('/content/facebook_live_data/Live.csv'):\n",
        "    for filename in filenames:\n",
        "        print(os.path.join(dirname, filename))\n",
        "\n",
        "# Any results you write to the current directory are saved as output.\n"
      ],
      "metadata": {
        "trusted": true,
        "id": "OFdlX9qjI7NO"
      },
      "outputs": [],
      "execution_count": 7
    },
    {
      "cell_type": "markdown",
      "source": [
        "### Ignore warnings\n"
      ],
      "metadata": {
        "id": "7V_5f-OuI7NO"
      }
    },
    {
      "cell_type": "code",
      "source": [
        "import warnings\n",
        "\n",
        "warnings.filterwarnings('ignore')"
      ],
      "metadata": {
        "trusted": true,
        "id": "iRS0Axh7I7NO"
      },
      "outputs": [],
      "execution_count": 8
    },
    {
      "cell_type": "markdown",
      "source": [
        "# **7. Import dataset** <a class=\"anchor\" id=\"7\"></a>\n",
        "\n",
        "[Table of Contents](#0.1)\n",
        "\n"
      ],
      "metadata": {
        "id": "GvLrNjGfI7NO"
      }
    },
    {
      "cell_type": "code",
      "source": [
        "data = '/content/facebook_live_data/Live.csv'\n",
        "\n",
        "df = pd.read_csv(data)\n"
      ],
      "metadata": {
        "trusted": true,
        "id": "niWlDB87I7NO"
      },
      "outputs": [],
      "execution_count": 10
    },
    {
      "cell_type": "markdown",
      "source": [
        "# **8. Exploratory data analysis** <a class=\"anchor\" id=\"8\"></a>\n",
        "\n",
        "[Table of Contents](#0.1)\n"
      ],
      "metadata": {
        "id": "bt3dDxiqI7NO"
      }
    },
    {
      "cell_type": "markdown",
      "source": [
        "### Check shape of the dataset"
      ],
      "metadata": {
        "id": "WwXLQnxxI7NO"
      }
    },
    {
      "cell_type": "code",
      "source": [
        "df.shape"
      ],
      "metadata": {
        "trusted": true,
        "id": "WKdCv2r5I7NO",
        "outputId": "4b781a60-d9d6-4a5b-f7d3-8ece5e8b01ce",
        "colab": {
          "base_uri": "https://localhost:8080/"
        }
      },
      "outputs": [
        {
          "output_type": "execute_result",
          "data": {
            "text/plain": [
              "(7050, 16)"
            ]
          },
          "metadata": {},
          "execution_count": 11
        }
      ],
      "execution_count": 11
    },
    {
      "cell_type": "markdown",
      "source": [
        "We can see that there are 7050 instances and 16 attributes in the dataset. In the dataset description, it is given that there are 7051 instances and 12 attributes in the dataset.\n",
        "\n",
        "So, we can infer that the first instance is the row header and there are 4 extra attributes in the dataset. Next, we should take a look at the dataset to gain more insight about it."
      ],
      "metadata": {
        "id": "7YtEIF3rI7NO"
      }
    },
    {
      "cell_type": "markdown",
      "source": [
        "### Preview the dataset"
      ],
      "metadata": {
        "id": "8SxUDV6zI7NO"
      }
    },
    {
      "cell_type": "code",
      "source": [
        "df.head()"
      ],
      "metadata": {
        "trusted": true,
        "id": "9BdHzxUtI7NO",
        "outputId": "6c49ffae-7b6a-4e3d-c83e-f0de637a95fc",
        "colab": {
          "base_uri": "https://localhost:8080/",
          "height": 226
        }
      },
      "outputs": [
        {
          "output_type": "execute_result",
          "data": {
            "text/plain": [
              "                          status_id status_type status_published  \\\n",
              "0  246675545449582_1649696485147474       video   4/22/2018 6:00   \n",
              "1  246675545449582_1649426988507757       photo  4/21/2018 22:45   \n",
              "2  246675545449582_1648730588577397       video   4/21/2018 6:17   \n",
              "3  246675545449582_1648576705259452       photo   4/21/2018 2:29   \n",
              "4  246675545449582_1645700502213739       photo   4/18/2018 3:22   \n",
              "\n",
              "   num_reactions  num_comments  num_shares  num_likes  num_loves  num_wows  \\\n",
              "0            529           512         262        432         92         3   \n",
              "1            150             0           0        150          0         0   \n",
              "2            227           236          57        204         21         1   \n",
              "3            111             0           0        111          0         0   \n",
              "4            213             0           0        204          9         0   \n",
              "\n",
              "   num_hahas  num_sads  num_angrys  Column1  Column2  Column3  Column4  \n",
              "0          1         1           0      NaN      NaN      NaN      NaN  \n",
              "1          0         0           0      NaN      NaN      NaN      NaN  \n",
              "2          1         0           0      NaN      NaN      NaN      NaN  \n",
              "3          0         0           0      NaN      NaN      NaN      NaN  \n",
              "4          0         0           0      NaN      NaN      NaN      NaN  "
            ],
            "text/html": [
              "\n",
              "  <div id=\"df-dcf0204c-da6f-4a9e-aab8-baf5f156da59\" class=\"colab-df-container\">\n",
              "    <div>\n",
              "<style scoped>\n",
              "    .dataframe tbody tr th:only-of-type {\n",
              "        vertical-align: middle;\n",
              "    }\n",
              "\n",
              "    .dataframe tbody tr th {\n",
              "        vertical-align: top;\n",
              "    }\n",
              "\n",
              "    .dataframe thead th {\n",
              "        text-align: right;\n",
              "    }\n",
              "</style>\n",
              "<table border=\"1\" class=\"dataframe\">\n",
              "  <thead>\n",
              "    <tr style=\"text-align: right;\">\n",
              "      <th></th>\n",
              "      <th>status_id</th>\n",
              "      <th>status_type</th>\n",
              "      <th>status_published</th>\n",
              "      <th>num_reactions</th>\n",
              "      <th>num_comments</th>\n",
              "      <th>num_shares</th>\n",
              "      <th>num_likes</th>\n",
              "      <th>num_loves</th>\n",
              "      <th>num_wows</th>\n",
              "      <th>num_hahas</th>\n",
              "      <th>num_sads</th>\n",
              "      <th>num_angrys</th>\n",
              "      <th>Column1</th>\n",
              "      <th>Column2</th>\n",
              "      <th>Column3</th>\n",
              "      <th>Column4</th>\n",
              "    </tr>\n",
              "  </thead>\n",
              "  <tbody>\n",
              "    <tr>\n",
              "      <th>0</th>\n",
              "      <td>246675545449582_1649696485147474</td>\n",
              "      <td>video</td>\n",
              "      <td>4/22/2018 6:00</td>\n",
              "      <td>529</td>\n",
              "      <td>512</td>\n",
              "      <td>262</td>\n",
              "      <td>432</td>\n",
              "      <td>92</td>\n",
              "      <td>3</td>\n",
              "      <td>1</td>\n",
              "      <td>1</td>\n",
              "      <td>0</td>\n",
              "      <td>NaN</td>\n",
              "      <td>NaN</td>\n",
              "      <td>NaN</td>\n",
              "      <td>NaN</td>\n",
              "    </tr>\n",
              "    <tr>\n",
              "      <th>1</th>\n",
              "      <td>246675545449582_1649426988507757</td>\n",
              "      <td>photo</td>\n",
              "      <td>4/21/2018 22:45</td>\n",
              "      <td>150</td>\n",
              "      <td>0</td>\n",
              "      <td>0</td>\n",
              "      <td>150</td>\n",
              "      <td>0</td>\n",
              "      <td>0</td>\n",
              "      <td>0</td>\n",
              "      <td>0</td>\n",
              "      <td>0</td>\n",
              "      <td>NaN</td>\n",
              "      <td>NaN</td>\n",
              "      <td>NaN</td>\n",
              "      <td>NaN</td>\n",
              "    </tr>\n",
              "    <tr>\n",
              "      <th>2</th>\n",
              "      <td>246675545449582_1648730588577397</td>\n",
              "      <td>video</td>\n",
              "      <td>4/21/2018 6:17</td>\n",
              "      <td>227</td>\n",
              "      <td>236</td>\n",
              "      <td>57</td>\n",
              "      <td>204</td>\n",
              "      <td>21</td>\n",
              "      <td>1</td>\n",
              "      <td>1</td>\n",
              "      <td>0</td>\n",
              "      <td>0</td>\n",
              "      <td>NaN</td>\n",
              "      <td>NaN</td>\n",
              "      <td>NaN</td>\n",
              "      <td>NaN</td>\n",
              "    </tr>\n",
              "    <tr>\n",
              "      <th>3</th>\n",
              "      <td>246675545449582_1648576705259452</td>\n",
              "      <td>photo</td>\n",
              "      <td>4/21/2018 2:29</td>\n",
              "      <td>111</td>\n",
              "      <td>0</td>\n",
              "      <td>0</td>\n",
              "      <td>111</td>\n",
              "      <td>0</td>\n",
              "      <td>0</td>\n",
              "      <td>0</td>\n",
              "      <td>0</td>\n",
              "      <td>0</td>\n",
              "      <td>NaN</td>\n",
              "      <td>NaN</td>\n",
              "      <td>NaN</td>\n",
              "      <td>NaN</td>\n",
              "    </tr>\n",
              "    <tr>\n",
              "      <th>4</th>\n",
              "      <td>246675545449582_1645700502213739</td>\n",
              "      <td>photo</td>\n",
              "      <td>4/18/2018 3:22</td>\n",
              "      <td>213</td>\n",
              "      <td>0</td>\n",
              "      <td>0</td>\n",
              "      <td>204</td>\n",
              "      <td>9</td>\n",
              "      <td>0</td>\n",
              "      <td>0</td>\n",
              "      <td>0</td>\n",
              "      <td>0</td>\n",
              "      <td>NaN</td>\n",
              "      <td>NaN</td>\n",
              "      <td>NaN</td>\n",
              "      <td>NaN</td>\n",
              "    </tr>\n",
              "  </tbody>\n",
              "</table>\n",
              "</div>\n",
              "    <div class=\"colab-df-buttons\">\n",
              "\n",
              "  <div class=\"colab-df-container\">\n",
              "    <button class=\"colab-df-convert\" onclick=\"convertToInteractive('df-dcf0204c-da6f-4a9e-aab8-baf5f156da59')\"\n",
              "            title=\"Convert this dataframe to an interactive table.\"\n",
              "            style=\"display:none;\">\n",
              "\n",
              "  <svg xmlns=\"http://www.w3.org/2000/svg\" height=\"24px\" viewBox=\"0 -960 960 960\">\n",
              "    <path d=\"M120-120v-720h720v720H120Zm60-500h600v-160H180v160Zm220 220h160v-160H400v160Zm0 220h160v-160H400v160ZM180-400h160v-160H180v160Zm440 0h160v-160H620v160ZM180-180h160v-160H180v160Zm440 0h160v-160H620v160Z\"/>\n",
              "  </svg>\n",
              "    </button>\n",
              "\n",
              "  <style>\n",
              "    .colab-df-container {\n",
              "      display:flex;\n",
              "      gap: 12px;\n",
              "    }\n",
              "\n",
              "    .colab-df-convert {\n",
              "      background-color: #E8F0FE;\n",
              "      border: none;\n",
              "      border-radius: 50%;\n",
              "      cursor: pointer;\n",
              "      display: none;\n",
              "      fill: #1967D2;\n",
              "      height: 32px;\n",
              "      padding: 0 0 0 0;\n",
              "      width: 32px;\n",
              "    }\n",
              "\n",
              "    .colab-df-convert:hover {\n",
              "      background-color: #E2EBFA;\n",
              "      box-shadow: 0px 1px 2px rgba(60, 64, 67, 0.3), 0px 1px 3px 1px rgba(60, 64, 67, 0.15);\n",
              "      fill: #174EA6;\n",
              "    }\n",
              "\n",
              "    .colab-df-buttons div {\n",
              "      margin-bottom: 4px;\n",
              "    }\n",
              "\n",
              "    [theme=dark] .colab-df-convert {\n",
              "      background-color: #3B4455;\n",
              "      fill: #D2E3FC;\n",
              "    }\n",
              "\n",
              "    [theme=dark] .colab-df-convert:hover {\n",
              "      background-color: #434B5C;\n",
              "      box-shadow: 0px 1px 3px 1px rgba(0, 0, 0, 0.15);\n",
              "      filter: drop-shadow(0px 1px 2px rgba(0, 0, 0, 0.3));\n",
              "      fill: #FFFFFF;\n",
              "    }\n",
              "  </style>\n",
              "\n",
              "    <script>\n",
              "      const buttonEl =\n",
              "        document.querySelector('#df-dcf0204c-da6f-4a9e-aab8-baf5f156da59 button.colab-df-convert');\n",
              "      buttonEl.style.display =\n",
              "        google.colab.kernel.accessAllowed ? 'block' : 'none';\n",
              "\n",
              "      async function convertToInteractive(key) {\n",
              "        const element = document.querySelector('#df-dcf0204c-da6f-4a9e-aab8-baf5f156da59');\n",
              "        const dataTable =\n",
              "          await google.colab.kernel.invokeFunction('convertToInteractive',\n",
              "                                                    [key], {});\n",
              "        if (!dataTable) return;\n",
              "\n",
              "        const docLinkHtml = 'Like what you see? Visit the ' +\n",
              "          '<a target=\"_blank\" href=https://colab.research.google.com/notebooks/data_table.ipynb>data table notebook</a>'\n",
              "          + ' to learn more about interactive tables.';\n",
              "        element.innerHTML = '';\n",
              "        dataTable['output_type'] = 'display_data';\n",
              "        await google.colab.output.renderOutput(dataTable, element);\n",
              "        const docLink = document.createElement('div');\n",
              "        docLink.innerHTML = docLinkHtml;\n",
              "        element.appendChild(docLink);\n",
              "      }\n",
              "    </script>\n",
              "  </div>\n",
              "\n",
              "\n",
              "<div id=\"df-73b80709-0d6b-4a3c-ab4f-1decbeb2eb87\">\n",
              "  <button class=\"colab-df-quickchart\" onclick=\"quickchart('df-73b80709-0d6b-4a3c-ab4f-1decbeb2eb87')\"\n",
              "            title=\"Suggest charts\"\n",
              "            style=\"display:none;\">\n",
              "\n",
              "<svg xmlns=\"http://www.w3.org/2000/svg\" height=\"24px\"viewBox=\"0 0 24 24\"\n",
              "     width=\"24px\">\n",
              "    <g>\n",
              "        <path d=\"M19 3H5c-1.1 0-2 .9-2 2v14c0 1.1.9 2 2 2h14c1.1 0 2-.9 2-2V5c0-1.1-.9-2-2-2zM9 17H7v-7h2v7zm4 0h-2V7h2v10zm4 0h-2v-4h2v4z\"/>\n",
              "    </g>\n",
              "</svg>\n",
              "  </button>\n",
              "\n",
              "<style>\n",
              "  .colab-df-quickchart {\n",
              "      --bg-color: #E8F0FE;\n",
              "      --fill-color: #1967D2;\n",
              "      --hover-bg-color: #E2EBFA;\n",
              "      --hover-fill-color: #174EA6;\n",
              "      --disabled-fill-color: #AAA;\n",
              "      --disabled-bg-color: #DDD;\n",
              "  }\n",
              "\n",
              "  [theme=dark] .colab-df-quickchart {\n",
              "      --bg-color: #3B4455;\n",
              "      --fill-color: #D2E3FC;\n",
              "      --hover-bg-color: #434B5C;\n",
              "      --hover-fill-color: #FFFFFF;\n",
              "      --disabled-bg-color: #3B4455;\n",
              "      --disabled-fill-color: #666;\n",
              "  }\n",
              "\n",
              "  .colab-df-quickchart {\n",
              "    background-color: var(--bg-color);\n",
              "    border: none;\n",
              "    border-radius: 50%;\n",
              "    cursor: pointer;\n",
              "    display: none;\n",
              "    fill: var(--fill-color);\n",
              "    height: 32px;\n",
              "    padding: 0;\n",
              "    width: 32px;\n",
              "  }\n",
              "\n",
              "  .colab-df-quickchart:hover {\n",
              "    background-color: var(--hover-bg-color);\n",
              "    box-shadow: 0 1px 2px rgba(60, 64, 67, 0.3), 0 1px 3px 1px rgba(60, 64, 67, 0.15);\n",
              "    fill: var(--button-hover-fill-color);\n",
              "  }\n",
              "\n",
              "  .colab-df-quickchart-complete:disabled,\n",
              "  .colab-df-quickchart-complete:disabled:hover {\n",
              "    background-color: var(--disabled-bg-color);\n",
              "    fill: var(--disabled-fill-color);\n",
              "    box-shadow: none;\n",
              "  }\n",
              "\n",
              "  .colab-df-spinner {\n",
              "    border: 2px solid var(--fill-color);\n",
              "    border-color: transparent;\n",
              "    border-bottom-color: var(--fill-color);\n",
              "    animation:\n",
              "      spin 1s steps(1) infinite;\n",
              "  }\n",
              "\n",
              "  @keyframes spin {\n",
              "    0% {\n",
              "      border-color: transparent;\n",
              "      border-bottom-color: var(--fill-color);\n",
              "      border-left-color: var(--fill-color);\n",
              "    }\n",
              "    20% {\n",
              "      border-color: transparent;\n",
              "      border-left-color: var(--fill-color);\n",
              "      border-top-color: var(--fill-color);\n",
              "    }\n",
              "    30% {\n",
              "      border-color: transparent;\n",
              "      border-left-color: var(--fill-color);\n",
              "      border-top-color: var(--fill-color);\n",
              "      border-right-color: var(--fill-color);\n",
              "    }\n",
              "    40% {\n",
              "      border-color: transparent;\n",
              "      border-right-color: var(--fill-color);\n",
              "      border-top-color: var(--fill-color);\n",
              "    }\n",
              "    60% {\n",
              "      border-color: transparent;\n",
              "      border-right-color: var(--fill-color);\n",
              "    }\n",
              "    80% {\n",
              "      border-color: transparent;\n",
              "      border-right-color: var(--fill-color);\n",
              "      border-bottom-color: var(--fill-color);\n",
              "    }\n",
              "    90% {\n",
              "      border-color: transparent;\n",
              "      border-bottom-color: var(--fill-color);\n",
              "    }\n",
              "  }\n",
              "</style>\n",
              "\n",
              "  <script>\n",
              "    async function quickchart(key) {\n",
              "      const quickchartButtonEl =\n",
              "        document.querySelector('#' + key + ' button');\n",
              "      quickchartButtonEl.disabled = true;  // To prevent multiple clicks.\n",
              "      quickchartButtonEl.classList.add('colab-df-spinner');\n",
              "      try {\n",
              "        const charts = await google.colab.kernel.invokeFunction(\n",
              "            'suggestCharts', [key], {});\n",
              "      } catch (error) {\n",
              "        console.error('Error during call to suggestCharts:', error);\n",
              "      }\n",
              "      quickchartButtonEl.classList.remove('colab-df-spinner');\n",
              "      quickchartButtonEl.classList.add('colab-df-quickchart-complete');\n",
              "    }\n",
              "    (() => {\n",
              "      let quickchartButtonEl =\n",
              "        document.querySelector('#df-73b80709-0d6b-4a3c-ab4f-1decbeb2eb87 button');\n",
              "      quickchartButtonEl.style.display =\n",
              "        google.colab.kernel.accessAllowed ? 'block' : 'none';\n",
              "    })();\n",
              "  </script>\n",
              "</div>\n",
              "\n",
              "    </div>\n",
              "  </div>\n"
            ],
            "application/vnd.google.colaboratory.intrinsic+json": {
              "type": "dataframe",
              "variable_name": "df",
              "summary": "{\n  \"name\": \"df\",\n  \"rows\": 7050,\n  \"fields\": [\n    {\n      \"column\": \"status_id\",\n      \"properties\": {\n        \"dtype\": \"string\",\n        \"num_unique_values\": 6997,\n        \"samples\": [\n          \"146481362756646_266901894047925\",\n          \"134115277150304_243321916229639\",\n          \"848451358648417_863853877108165\"\n        ],\n        \"semantic_type\": \"\",\n        \"description\": \"\"\n      }\n    },\n    {\n      \"column\": \"status_type\",\n      \"properties\": {\n        \"dtype\": \"category\",\n        \"num_unique_values\": 4,\n        \"samples\": [\n          \"photo\",\n          \"status\",\n          \"video\"\n        ],\n        \"semantic_type\": \"\",\n        \"description\": \"\"\n      }\n    },\n    {\n      \"column\": \"status_published\",\n      \"properties\": {\n        \"dtype\": \"object\",\n        \"num_unique_values\": 6913,\n        \"samples\": [\n          \"4/11/2018 21:12\",\n          \"11/4/2013 10:16\",\n          \"5/19/2018 7:03\"\n        ],\n        \"semantic_type\": \"\",\n        \"description\": \"\"\n      }\n    },\n    {\n      \"column\": \"num_reactions\",\n      \"properties\": {\n        \"dtype\": \"number\",\n        \"std\": 462,\n        \"min\": 0,\n        \"max\": 4710,\n        \"num_unique_values\": 1067,\n        \"samples\": [\n          406,\n          1864,\n          317\n        ],\n        \"semantic_type\": \"\",\n        \"description\": \"\"\n      }\n    },\n    {\n      \"column\": \"num_comments\",\n      \"properties\": {\n        \"dtype\": \"number\",\n        \"std\": 889,\n        \"min\": 0,\n        \"max\": 20990,\n        \"num_unique_values\": 993,\n        \"samples\": [\n          3287,\n          311,\n          543\n        ],\n        \"semantic_type\": \"\",\n        \"description\": \"\"\n      }\n    },\n    {\n      \"column\": \"num_shares\",\n      \"properties\": {\n        \"dtype\": \"number\",\n        \"std\": 131,\n        \"min\": 0,\n        \"max\": 3424,\n        \"num_unique_values\": 501,\n        \"samples\": [\n          234,\n          78,\n          298\n        ],\n        \"semantic_type\": \"\",\n        \"description\": \"\"\n      }\n    },\n    {\n      \"column\": \"num_likes\",\n      \"properties\": {\n        \"dtype\": \"number\",\n        \"std\": 449,\n        \"min\": 0,\n        \"max\": 4710,\n        \"num_unique_values\": 1044,\n        \"samples\": [\n          844,\n          876,\n          2399\n        ],\n        \"semantic_type\": \"\",\n        \"description\": \"\"\n      }\n    },\n    {\n      \"column\": \"num_loves\",\n      \"properties\": {\n        \"dtype\": \"number\",\n        \"std\": 39,\n        \"min\": 0,\n        \"max\": 657,\n        \"num_unique_values\": 229,\n        \"samples\": [\n          101,\n          136,\n          6\n        ],\n        \"semantic_type\": \"\",\n        \"description\": \"\"\n      }\n    },\n    {\n      \"column\": \"num_wows\",\n      \"properties\": {\n        \"dtype\": \"number\",\n        \"std\": 8,\n        \"min\": 0,\n        \"max\": 278,\n        \"num_unique_values\": 65,\n        \"samples\": [\n          33,\n          49,\n          3\n        ],\n        \"semantic_type\": \"\",\n        \"description\": \"\"\n      }\n    },\n    {\n      \"column\": \"num_hahas\",\n      \"properties\": {\n        \"dtype\": \"number\",\n        \"std\": 3,\n        \"min\": 0,\n        \"max\": 157,\n        \"num_unique_values\": 42,\n        \"samples\": [\n          50,\n          9,\n          7\n        ],\n        \"semantic_type\": \"\",\n        \"description\": \"\"\n      }\n    },\n    {\n      \"column\": \"num_sads\",\n      \"properties\": {\n        \"dtype\": \"number\",\n        \"std\": 1,\n        \"min\": 0,\n        \"max\": 51,\n        \"num_unique_values\": 24,\n        \"samples\": [\n          4,\n          51,\n          1\n        ],\n        \"semantic_type\": \"\",\n        \"description\": \"\"\n      }\n    },\n    {\n      \"column\": \"num_angrys\",\n      \"properties\": {\n        \"dtype\": \"number\",\n        \"std\": 0,\n        \"min\": 0,\n        \"max\": 31,\n        \"num_unique_values\": 14,\n        \"samples\": [\n          8,\n          19,\n          0\n        ],\n        \"semantic_type\": \"\",\n        \"description\": \"\"\n      }\n    },\n    {\n      \"column\": \"Column1\",\n      \"properties\": {\n        \"dtype\": \"number\",\n        \"std\": null,\n        \"min\": null,\n        \"max\": null,\n        \"num_unique_values\": 0,\n        \"samples\": [],\n        \"semantic_type\": \"\",\n        \"description\": \"\"\n      }\n    },\n    {\n      \"column\": \"Column2\",\n      \"properties\": {\n        \"dtype\": \"number\",\n        \"std\": null,\n        \"min\": null,\n        \"max\": null,\n        \"num_unique_values\": 0,\n        \"samples\": [],\n        \"semantic_type\": \"\",\n        \"description\": \"\"\n      }\n    },\n    {\n      \"column\": \"Column3\",\n      \"properties\": {\n        \"dtype\": \"number\",\n        \"std\": null,\n        \"min\": null,\n        \"max\": null,\n        \"num_unique_values\": 0,\n        \"samples\": [],\n        \"semantic_type\": \"\",\n        \"description\": \"\"\n      }\n    },\n    {\n      \"column\": \"Column4\",\n      \"properties\": {\n        \"dtype\": \"number\",\n        \"std\": null,\n        \"min\": null,\n        \"max\": null,\n        \"num_unique_values\": 0,\n        \"samples\": [],\n        \"semantic_type\": \"\",\n        \"description\": \"\"\n      }\n    }\n  ]\n}"
            }
          },
          "metadata": {},
          "execution_count": 12
        }
      ],
      "execution_count": 12
    },
    {
      "cell_type": "markdown",
      "source": [
        "### View summary of dataset"
      ],
      "metadata": {
        "id": "lJJbr39ZI7NP"
      }
    },
    {
      "cell_type": "code",
      "source": [
        "df.info()"
      ],
      "metadata": {
        "trusted": true,
        "id": "J7f8ul10I7NP",
        "outputId": "bb269f45-7126-4b0b-aad5-34b37e7f80cb",
        "colab": {
          "base_uri": "https://localhost:8080/"
        }
      },
      "outputs": [
        {
          "output_type": "stream",
          "name": "stdout",
          "text": [
            "<class 'pandas.core.frame.DataFrame'>\n",
            "RangeIndex: 7050 entries, 0 to 7049\n",
            "Data columns (total 16 columns):\n",
            " #   Column            Non-Null Count  Dtype  \n",
            "---  ------            --------------  -----  \n",
            " 0   status_id         7050 non-null   object \n",
            " 1   status_type       7050 non-null   object \n",
            " 2   status_published  7050 non-null   object \n",
            " 3   num_reactions     7050 non-null   int64  \n",
            " 4   num_comments      7050 non-null   int64  \n",
            " 5   num_shares        7050 non-null   int64  \n",
            " 6   num_likes         7050 non-null   int64  \n",
            " 7   num_loves         7050 non-null   int64  \n",
            " 8   num_wows          7050 non-null   int64  \n",
            " 9   num_hahas         7050 non-null   int64  \n",
            " 10  num_sads          7050 non-null   int64  \n",
            " 11  num_angrys        7050 non-null   int64  \n",
            " 12  Column1           0 non-null      float64\n",
            " 13  Column2           0 non-null      float64\n",
            " 14  Column3           0 non-null      float64\n",
            " 15  Column4           0 non-null      float64\n",
            "dtypes: float64(4), int64(9), object(3)\n",
            "memory usage: 881.4+ KB\n"
          ]
        }
      ],
      "execution_count": 13
    },
    {
      "cell_type": "markdown",
      "source": [
        "### Check for missing values in dataset"
      ],
      "metadata": {
        "id": "7LIPaiqXI7NP"
      }
    },
    {
      "cell_type": "code",
      "source": [
        "df.isnull().sum()"
      ],
      "metadata": {
        "trusted": true,
        "id": "SVuTWHFXI7NP",
        "outputId": "a4258548-9c40-4197-9668-b0f360929acf",
        "colab": {
          "base_uri": "https://localhost:8080/",
          "height": 586
        }
      },
      "outputs": [
        {
          "output_type": "execute_result",
          "data": {
            "text/plain": [
              "status_id              0\n",
              "status_type            0\n",
              "status_published       0\n",
              "num_reactions          0\n",
              "num_comments           0\n",
              "num_shares             0\n",
              "num_likes              0\n",
              "num_loves              0\n",
              "num_wows               0\n",
              "num_hahas              0\n",
              "num_sads               0\n",
              "num_angrys             0\n",
              "Column1             7050\n",
              "Column2             7050\n",
              "Column3             7050\n",
              "Column4             7050\n",
              "dtype: int64"
            ],
            "text/html": [
              "<div>\n",
              "<style scoped>\n",
              "    .dataframe tbody tr th:only-of-type {\n",
              "        vertical-align: middle;\n",
              "    }\n",
              "\n",
              "    .dataframe tbody tr th {\n",
              "        vertical-align: top;\n",
              "    }\n",
              "\n",
              "    .dataframe thead th {\n",
              "        text-align: right;\n",
              "    }\n",
              "</style>\n",
              "<table border=\"1\" class=\"dataframe\">\n",
              "  <thead>\n",
              "    <tr style=\"text-align: right;\">\n",
              "      <th></th>\n",
              "      <th>0</th>\n",
              "    </tr>\n",
              "  </thead>\n",
              "  <tbody>\n",
              "    <tr>\n",
              "      <th>status_id</th>\n",
              "      <td>0</td>\n",
              "    </tr>\n",
              "    <tr>\n",
              "      <th>status_type</th>\n",
              "      <td>0</td>\n",
              "    </tr>\n",
              "    <tr>\n",
              "      <th>status_published</th>\n",
              "      <td>0</td>\n",
              "    </tr>\n",
              "    <tr>\n",
              "      <th>num_reactions</th>\n",
              "      <td>0</td>\n",
              "    </tr>\n",
              "    <tr>\n",
              "      <th>num_comments</th>\n",
              "      <td>0</td>\n",
              "    </tr>\n",
              "    <tr>\n",
              "      <th>num_shares</th>\n",
              "      <td>0</td>\n",
              "    </tr>\n",
              "    <tr>\n",
              "      <th>num_likes</th>\n",
              "      <td>0</td>\n",
              "    </tr>\n",
              "    <tr>\n",
              "      <th>num_loves</th>\n",
              "      <td>0</td>\n",
              "    </tr>\n",
              "    <tr>\n",
              "      <th>num_wows</th>\n",
              "      <td>0</td>\n",
              "    </tr>\n",
              "    <tr>\n",
              "      <th>num_hahas</th>\n",
              "      <td>0</td>\n",
              "    </tr>\n",
              "    <tr>\n",
              "      <th>num_sads</th>\n",
              "      <td>0</td>\n",
              "    </tr>\n",
              "    <tr>\n",
              "      <th>num_angrys</th>\n",
              "      <td>0</td>\n",
              "    </tr>\n",
              "    <tr>\n",
              "      <th>Column1</th>\n",
              "      <td>7050</td>\n",
              "    </tr>\n",
              "    <tr>\n",
              "      <th>Column2</th>\n",
              "      <td>7050</td>\n",
              "    </tr>\n",
              "    <tr>\n",
              "      <th>Column3</th>\n",
              "      <td>7050</td>\n",
              "    </tr>\n",
              "    <tr>\n",
              "      <th>Column4</th>\n",
              "      <td>7050</td>\n",
              "    </tr>\n",
              "  </tbody>\n",
              "</table>\n",
              "</div><br><label><b>dtype:</b> int64</label>"
            ]
          },
          "metadata": {},
          "execution_count": 14
        }
      ],
      "execution_count": 14
    },
    {
      "cell_type": "markdown",
      "source": [
        "We can see that there are 4 redundant columns in the dataset. We should drop them before proceeding further."
      ],
      "metadata": {
        "id": "XVu6btNeI7NP"
      }
    },
    {
      "cell_type": "markdown",
      "source": [
        "### Drop redundant columns"
      ],
      "metadata": {
        "id": "Nu4JzD__I7NP"
      }
    },
    {
      "cell_type": "code",
      "source": [
        "df.drop(['Column1', 'Column2', 'Column3', 'Column4'], axis=1, inplace=True)"
      ],
      "metadata": {
        "trusted": true,
        "id": "LtROXcA1I7NP"
      },
      "outputs": [],
      "execution_count": 15
    },
    {
      "cell_type": "markdown",
      "source": [
        "### Again view summary of dataset"
      ],
      "metadata": {
        "id": "tBChUU1sI7NP"
      }
    },
    {
      "cell_type": "code",
      "source": [
        "df.info()"
      ],
      "metadata": {
        "trusted": true,
        "id": "U6LykV2FI7NP",
        "outputId": "51a44536-ae8f-491e-8f80-f5992815cbec",
        "colab": {
          "base_uri": "https://localhost:8080/"
        }
      },
      "outputs": [
        {
          "output_type": "stream",
          "name": "stdout",
          "text": [
            "<class 'pandas.core.frame.DataFrame'>\n",
            "RangeIndex: 7050 entries, 0 to 7049\n",
            "Data columns (total 12 columns):\n",
            " #   Column            Non-Null Count  Dtype \n",
            "---  ------            --------------  ----- \n",
            " 0   status_id         7050 non-null   object\n",
            " 1   status_type       7050 non-null   object\n",
            " 2   status_published  7050 non-null   object\n",
            " 3   num_reactions     7050 non-null   int64 \n",
            " 4   num_comments      7050 non-null   int64 \n",
            " 5   num_shares        7050 non-null   int64 \n",
            " 6   num_likes         7050 non-null   int64 \n",
            " 7   num_loves         7050 non-null   int64 \n",
            " 8   num_wows          7050 non-null   int64 \n",
            " 9   num_hahas         7050 non-null   int64 \n",
            " 10  num_sads          7050 non-null   int64 \n",
            " 11  num_angrys        7050 non-null   int64 \n",
            "dtypes: int64(9), object(3)\n",
            "memory usage: 661.1+ KB\n"
          ]
        }
      ],
      "execution_count": 16
    },
    {
      "cell_type": "markdown",
      "source": [
        "Now, we can see that redundant columns have been removed from the dataset.\n",
        "\n",
        "We can see that, there are 3 character variables (data type = object) and remaining 9 numerical variables (data type = int64).\n"
      ],
      "metadata": {
        "id": "qmZs3tcII7NP"
      }
    },
    {
      "cell_type": "markdown",
      "source": [
        "### View the statistical summary of numerical variables"
      ],
      "metadata": {
        "id": "JODqhenfI7NP"
      }
    },
    {
      "cell_type": "code",
      "source": [
        "df.describe()"
      ],
      "metadata": {
        "trusted": true,
        "id": "A-jE6X_OI7NP",
        "outputId": "c3cb6bb3-0232-45fe-dfbf-c73b6cf7fdd5",
        "colab": {
          "base_uri": "https://localhost:8080/",
          "height": 300
        }
      },
      "outputs": [
        {
          "output_type": "execute_result",
          "data": {
            "text/plain": [
              "       num_reactions  num_comments   num_shares    num_likes    num_loves  \\\n",
              "count    7050.000000   7050.000000  7050.000000  7050.000000  7050.000000   \n",
              "mean      230.117163    224.356028    40.022553   215.043121    12.728652   \n",
              "std       462.625309    889.636820   131.599965   449.472357    39.972930   \n",
              "min         0.000000      0.000000     0.000000     0.000000     0.000000   \n",
              "25%        17.000000      0.000000     0.000000    17.000000     0.000000   \n",
              "50%        59.500000      4.000000     0.000000    58.000000     0.000000   \n",
              "75%       219.000000     23.000000     4.000000   184.750000     3.000000   \n",
              "max      4710.000000  20990.000000  3424.000000  4710.000000   657.000000   \n",
              "\n",
              "          num_wows    num_hahas     num_sads   num_angrys  \n",
              "count  7050.000000  7050.000000  7050.000000  7050.000000  \n",
              "mean      1.289362     0.696454     0.243688     0.113191  \n",
              "std       8.719650     3.957183     1.597156     0.726812  \n",
              "min       0.000000     0.000000     0.000000     0.000000  \n",
              "25%       0.000000     0.000000     0.000000     0.000000  \n",
              "50%       0.000000     0.000000     0.000000     0.000000  \n",
              "75%       0.000000     0.000000     0.000000     0.000000  \n",
              "max     278.000000   157.000000    51.000000    31.000000  "
            ],
            "text/html": [
              "\n",
              "  <div id=\"df-ea452789-1be9-40bc-850b-6e0188682ca1\" class=\"colab-df-container\">\n",
              "    <div>\n",
              "<style scoped>\n",
              "    .dataframe tbody tr th:only-of-type {\n",
              "        vertical-align: middle;\n",
              "    }\n",
              "\n",
              "    .dataframe tbody tr th {\n",
              "        vertical-align: top;\n",
              "    }\n",
              "\n",
              "    .dataframe thead th {\n",
              "        text-align: right;\n",
              "    }\n",
              "</style>\n",
              "<table border=\"1\" class=\"dataframe\">\n",
              "  <thead>\n",
              "    <tr style=\"text-align: right;\">\n",
              "      <th></th>\n",
              "      <th>num_reactions</th>\n",
              "      <th>num_comments</th>\n",
              "      <th>num_shares</th>\n",
              "      <th>num_likes</th>\n",
              "      <th>num_loves</th>\n",
              "      <th>num_wows</th>\n",
              "      <th>num_hahas</th>\n",
              "      <th>num_sads</th>\n",
              "      <th>num_angrys</th>\n",
              "    </tr>\n",
              "  </thead>\n",
              "  <tbody>\n",
              "    <tr>\n",
              "      <th>count</th>\n",
              "      <td>7050.000000</td>\n",
              "      <td>7050.000000</td>\n",
              "      <td>7050.000000</td>\n",
              "      <td>7050.000000</td>\n",
              "      <td>7050.000000</td>\n",
              "      <td>7050.000000</td>\n",
              "      <td>7050.000000</td>\n",
              "      <td>7050.000000</td>\n",
              "      <td>7050.000000</td>\n",
              "    </tr>\n",
              "    <tr>\n",
              "      <th>mean</th>\n",
              "      <td>230.117163</td>\n",
              "      <td>224.356028</td>\n",
              "      <td>40.022553</td>\n",
              "      <td>215.043121</td>\n",
              "      <td>12.728652</td>\n",
              "      <td>1.289362</td>\n",
              "      <td>0.696454</td>\n",
              "      <td>0.243688</td>\n",
              "      <td>0.113191</td>\n",
              "    </tr>\n",
              "    <tr>\n",
              "      <th>std</th>\n",
              "      <td>462.625309</td>\n",
              "      <td>889.636820</td>\n",
              "      <td>131.599965</td>\n",
              "      <td>449.472357</td>\n",
              "      <td>39.972930</td>\n",
              "      <td>8.719650</td>\n",
              "      <td>3.957183</td>\n",
              "      <td>1.597156</td>\n",
              "      <td>0.726812</td>\n",
              "    </tr>\n",
              "    <tr>\n",
              "      <th>min</th>\n",
              "      <td>0.000000</td>\n",
              "      <td>0.000000</td>\n",
              "      <td>0.000000</td>\n",
              "      <td>0.000000</td>\n",
              "      <td>0.000000</td>\n",
              "      <td>0.000000</td>\n",
              "      <td>0.000000</td>\n",
              "      <td>0.000000</td>\n",
              "      <td>0.000000</td>\n",
              "    </tr>\n",
              "    <tr>\n",
              "      <th>25%</th>\n",
              "      <td>17.000000</td>\n",
              "      <td>0.000000</td>\n",
              "      <td>0.000000</td>\n",
              "      <td>17.000000</td>\n",
              "      <td>0.000000</td>\n",
              "      <td>0.000000</td>\n",
              "      <td>0.000000</td>\n",
              "      <td>0.000000</td>\n",
              "      <td>0.000000</td>\n",
              "    </tr>\n",
              "    <tr>\n",
              "      <th>50%</th>\n",
              "      <td>59.500000</td>\n",
              "      <td>4.000000</td>\n",
              "      <td>0.000000</td>\n",
              "      <td>58.000000</td>\n",
              "      <td>0.000000</td>\n",
              "      <td>0.000000</td>\n",
              "      <td>0.000000</td>\n",
              "      <td>0.000000</td>\n",
              "      <td>0.000000</td>\n",
              "    </tr>\n",
              "    <tr>\n",
              "      <th>75%</th>\n",
              "      <td>219.000000</td>\n",
              "      <td>23.000000</td>\n",
              "      <td>4.000000</td>\n",
              "      <td>184.750000</td>\n",
              "      <td>3.000000</td>\n",
              "      <td>0.000000</td>\n",
              "      <td>0.000000</td>\n",
              "      <td>0.000000</td>\n",
              "      <td>0.000000</td>\n",
              "    </tr>\n",
              "    <tr>\n",
              "      <th>max</th>\n",
              "      <td>4710.000000</td>\n",
              "      <td>20990.000000</td>\n",
              "      <td>3424.000000</td>\n",
              "      <td>4710.000000</td>\n",
              "      <td>657.000000</td>\n",
              "      <td>278.000000</td>\n",
              "      <td>157.000000</td>\n",
              "      <td>51.000000</td>\n",
              "      <td>31.000000</td>\n",
              "    </tr>\n",
              "  </tbody>\n",
              "</table>\n",
              "</div>\n",
              "    <div class=\"colab-df-buttons\">\n",
              "\n",
              "  <div class=\"colab-df-container\">\n",
              "    <button class=\"colab-df-convert\" onclick=\"convertToInteractive('df-ea452789-1be9-40bc-850b-6e0188682ca1')\"\n",
              "            title=\"Convert this dataframe to an interactive table.\"\n",
              "            style=\"display:none;\">\n",
              "\n",
              "  <svg xmlns=\"http://www.w3.org/2000/svg\" height=\"24px\" viewBox=\"0 -960 960 960\">\n",
              "    <path d=\"M120-120v-720h720v720H120Zm60-500h600v-160H180v160Zm220 220h160v-160H400v160Zm0 220h160v-160H400v160ZM180-400h160v-160H180v160Zm440 0h160v-160H620v160ZM180-180h160v-160H180v160Zm440 0h160v-160H620v160Z\"/>\n",
              "  </svg>\n",
              "    </button>\n",
              "\n",
              "  <style>\n",
              "    .colab-df-container {\n",
              "      display:flex;\n",
              "      gap: 12px;\n",
              "    }\n",
              "\n",
              "    .colab-df-convert {\n",
              "      background-color: #E8F0FE;\n",
              "      border: none;\n",
              "      border-radius: 50%;\n",
              "      cursor: pointer;\n",
              "      display: none;\n",
              "      fill: #1967D2;\n",
              "      height: 32px;\n",
              "      padding: 0 0 0 0;\n",
              "      width: 32px;\n",
              "    }\n",
              "\n",
              "    .colab-df-convert:hover {\n",
              "      background-color: #E2EBFA;\n",
              "      box-shadow: 0px 1px 2px rgba(60, 64, 67, 0.3), 0px 1px 3px 1px rgba(60, 64, 67, 0.15);\n",
              "      fill: #174EA6;\n",
              "    }\n",
              "\n",
              "    .colab-df-buttons div {\n",
              "      margin-bottom: 4px;\n",
              "    }\n",
              "\n",
              "    [theme=dark] .colab-df-convert {\n",
              "      background-color: #3B4455;\n",
              "      fill: #D2E3FC;\n",
              "    }\n",
              "\n",
              "    [theme=dark] .colab-df-convert:hover {\n",
              "      background-color: #434B5C;\n",
              "      box-shadow: 0px 1px 3px 1px rgba(0, 0, 0, 0.15);\n",
              "      filter: drop-shadow(0px 1px 2px rgba(0, 0, 0, 0.3));\n",
              "      fill: #FFFFFF;\n",
              "    }\n",
              "  </style>\n",
              "\n",
              "    <script>\n",
              "      const buttonEl =\n",
              "        document.querySelector('#df-ea452789-1be9-40bc-850b-6e0188682ca1 button.colab-df-convert');\n",
              "      buttonEl.style.display =\n",
              "        google.colab.kernel.accessAllowed ? 'block' : 'none';\n",
              "\n",
              "      async function convertToInteractive(key) {\n",
              "        const element = document.querySelector('#df-ea452789-1be9-40bc-850b-6e0188682ca1');\n",
              "        const dataTable =\n",
              "          await google.colab.kernel.invokeFunction('convertToInteractive',\n",
              "                                                    [key], {});\n",
              "        if (!dataTable) return;\n",
              "\n",
              "        const docLinkHtml = 'Like what you see? Visit the ' +\n",
              "          '<a target=\"_blank\" href=https://colab.research.google.com/notebooks/data_table.ipynb>data table notebook</a>'\n",
              "          + ' to learn more about interactive tables.';\n",
              "        element.innerHTML = '';\n",
              "        dataTable['output_type'] = 'display_data';\n",
              "        await google.colab.output.renderOutput(dataTable, element);\n",
              "        const docLink = document.createElement('div');\n",
              "        docLink.innerHTML = docLinkHtml;\n",
              "        element.appendChild(docLink);\n",
              "      }\n",
              "    </script>\n",
              "  </div>\n",
              "\n",
              "\n",
              "<div id=\"df-85aab502-6de4-4fea-af0c-660e923a377c\">\n",
              "  <button class=\"colab-df-quickchart\" onclick=\"quickchart('df-85aab502-6de4-4fea-af0c-660e923a377c')\"\n",
              "            title=\"Suggest charts\"\n",
              "            style=\"display:none;\">\n",
              "\n",
              "<svg xmlns=\"http://www.w3.org/2000/svg\" height=\"24px\"viewBox=\"0 0 24 24\"\n",
              "     width=\"24px\">\n",
              "    <g>\n",
              "        <path d=\"M19 3H5c-1.1 0-2 .9-2 2v14c0 1.1.9 2 2 2h14c1.1 0 2-.9 2-2V5c0-1.1-.9-2-2-2zM9 17H7v-7h2v7zm4 0h-2V7h2v10zm4 0h-2v-4h2v4z\"/>\n",
              "    </g>\n",
              "</svg>\n",
              "  </button>\n",
              "\n",
              "<style>\n",
              "  .colab-df-quickchart {\n",
              "      --bg-color: #E8F0FE;\n",
              "      --fill-color: #1967D2;\n",
              "      --hover-bg-color: #E2EBFA;\n",
              "      --hover-fill-color: #174EA6;\n",
              "      --disabled-fill-color: #AAA;\n",
              "      --disabled-bg-color: #DDD;\n",
              "  }\n",
              "\n",
              "  [theme=dark] .colab-df-quickchart {\n",
              "      --bg-color: #3B4455;\n",
              "      --fill-color: #D2E3FC;\n",
              "      --hover-bg-color: #434B5C;\n",
              "      --hover-fill-color: #FFFFFF;\n",
              "      --disabled-bg-color: #3B4455;\n",
              "      --disabled-fill-color: #666;\n",
              "  }\n",
              "\n",
              "  .colab-df-quickchart {\n",
              "    background-color: var(--bg-color);\n",
              "    border: none;\n",
              "    border-radius: 50%;\n",
              "    cursor: pointer;\n",
              "    display: none;\n",
              "    fill: var(--fill-color);\n",
              "    height: 32px;\n",
              "    padding: 0;\n",
              "    width: 32px;\n",
              "  }\n",
              "\n",
              "  .colab-df-quickchart:hover {\n",
              "    background-color: var(--hover-bg-color);\n",
              "    box-shadow: 0 1px 2px rgba(60, 64, 67, 0.3), 0 1px 3px 1px rgba(60, 64, 67, 0.15);\n",
              "    fill: var(--button-hover-fill-color);\n",
              "  }\n",
              "\n",
              "  .colab-df-quickchart-complete:disabled,\n",
              "  .colab-df-quickchart-complete:disabled:hover {\n",
              "    background-color: var(--disabled-bg-color);\n",
              "    fill: var(--disabled-fill-color);\n",
              "    box-shadow: none;\n",
              "  }\n",
              "\n",
              "  .colab-df-spinner {\n",
              "    border: 2px solid var(--fill-color);\n",
              "    border-color: transparent;\n",
              "    border-bottom-color: var(--fill-color);\n",
              "    animation:\n",
              "      spin 1s steps(1) infinite;\n",
              "  }\n",
              "\n",
              "  @keyframes spin {\n",
              "    0% {\n",
              "      border-color: transparent;\n",
              "      border-bottom-color: var(--fill-color);\n",
              "      border-left-color: var(--fill-color);\n",
              "    }\n",
              "    20% {\n",
              "      border-color: transparent;\n",
              "      border-left-color: var(--fill-color);\n",
              "      border-top-color: var(--fill-color);\n",
              "    }\n",
              "    30% {\n",
              "      border-color: transparent;\n",
              "      border-left-color: var(--fill-color);\n",
              "      border-top-color: var(--fill-color);\n",
              "      border-right-color: var(--fill-color);\n",
              "    }\n",
              "    40% {\n",
              "      border-color: transparent;\n",
              "      border-right-color: var(--fill-color);\n",
              "      border-top-color: var(--fill-color);\n",
              "    }\n",
              "    60% {\n",
              "      border-color: transparent;\n",
              "      border-right-color: var(--fill-color);\n",
              "    }\n",
              "    80% {\n",
              "      border-color: transparent;\n",
              "      border-right-color: var(--fill-color);\n",
              "      border-bottom-color: var(--fill-color);\n",
              "    }\n",
              "    90% {\n",
              "      border-color: transparent;\n",
              "      border-bottom-color: var(--fill-color);\n",
              "    }\n",
              "  }\n",
              "</style>\n",
              "\n",
              "  <script>\n",
              "    async function quickchart(key) {\n",
              "      const quickchartButtonEl =\n",
              "        document.querySelector('#' + key + ' button');\n",
              "      quickchartButtonEl.disabled = true;  // To prevent multiple clicks.\n",
              "      quickchartButtonEl.classList.add('colab-df-spinner');\n",
              "      try {\n",
              "        const charts = await google.colab.kernel.invokeFunction(\n",
              "            'suggestCharts', [key], {});\n",
              "      } catch (error) {\n",
              "        console.error('Error during call to suggestCharts:', error);\n",
              "      }\n",
              "      quickchartButtonEl.classList.remove('colab-df-spinner');\n",
              "      quickchartButtonEl.classList.add('colab-df-quickchart-complete');\n",
              "    }\n",
              "    (() => {\n",
              "      let quickchartButtonEl =\n",
              "        document.querySelector('#df-85aab502-6de4-4fea-af0c-660e923a377c button');\n",
              "      quickchartButtonEl.style.display =\n",
              "        google.colab.kernel.accessAllowed ? 'block' : 'none';\n",
              "    })();\n",
              "  </script>\n",
              "</div>\n",
              "\n",
              "    </div>\n",
              "  </div>\n"
            ],
            "application/vnd.google.colaboratory.intrinsic+json": {
              "type": "dataframe",
              "summary": "{\n  \"name\": \"df\",\n  \"rows\": 8,\n  \"fields\": [\n    {\n      \"column\": \"num_reactions\",\n      \"properties\": {\n        \"dtype\": \"number\",\n        \"std\": 2722.673464734532,\n        \"min\": 0.0,\n        \"max\": 7050.0,\n        \"num_unique_values\": 8,\n        \"samples\": [\n          230.11716312056737,\n          59.5,\n          7050.0\n        ],\n        \"semantic_type\": \"\",\n        \"description\": \"\"\n      }\n    },\n    {\n      \"column\": \"num_comments\",\n      \"properties\": {\n        \"dtype\": \"number\",\n        \"std\": 7413.150875780048,\n        \"min\": 0.0,\n        \"max\": 20990.0,\n        \"num_unique_values\": 7,\n        \"samples\": [\n          7050.0,\n          224.3560283687943,\n          23.0\n        ],\n        \"semantic_type\": \"\",\n        \"description\": \"\"\n      }\n    },\n    {\n      \"column\": \"num_shares\",\n      \"properties\": {\n        \"dtype\": \"number\",\n        \"std\": 2598.5821651123388,\n        \"min\": 0.0,\n        \"max\": 7050.0,\n        \"num_unique_values\": 6,\n        \"samples\": [\n          7050.0,\n          40.022553191489365,\n          3424.0\n        ],\n        \"semantic_type\": \"\",\n        \"description\": \"\"\n      }\n    },\n    {\n      \"column\": \"num_likes\",\n      \"properties\": {\n        \"dtype\": \"number\",\n        \"std\": 2727.1474020513233,\n        \"min\": 0.0,\n        \"max\": 7050.0,\n        \"num_unique_values\": 8,\n        \"samples\": [\n          215.0431205673759,\n          58.0,\n          7050.0\n        ],\n        \"semantic_type\": \"\",\n        \"description\": \"\"\n      }\n    },\n    {\n      \"column\": \"num_loves\",\n      \"properties\": {\n        \"dtype\": \"number\",\n        \"std\": 2467.024693581627,\n        \"min\": 0.0,\n        \"max\": 7050.0,\n        \"num_unique_values\": 6,\n        \"samples\": [\n          7050.0,\n          12.728652482269503,\n          657.0\n        ],\n        \"semantic_type\": \"\",\n        \"description\": \"\"\n      }\n    },\n    {\n      \"column\": \"num_wows\",\n      \"properties\": {\n        \"dtype\": \"number\",\n        \"std\": 2479.8924130488526,\n        \"min\": 0.0,\n        \"max\": 7050.0,\n        \"num_unique_values\": 5,\n        \"samples\": [\n          1.2893617021276595,\n          278.0,\n          8.7196503803815\n        ],\n        \"semantic_type\": \"\",\n        \"description\": \"\"\n      }\n    },\n    {\n      \"column\": \"num_hahas\",\n      \"properties\": {\n        \"dtype\": \"number\",\n        \"std\": 2484.9884052969605,\n        \"min\": 0.0,\n        \"max\": 7050.0,\n        \"num_unique_values\": 5,\n        \"samples\": [\n          0.6964539007092199,\n          157.0,\n          3.9571834429528883\n        ],\n        \"semantic_type\": \"\",\n        \"description\": \"\"\n      }\n    },\n    {\n      \"column\": \"num_sads\",\n      \"properties\": {\n        \"dtype\": \"number\",\n        \"std\": 2489.9457855142073,\n        \"min\": 0.0,\n        \"max\": 7050.0,\n        \"num_unique_values\": 5,\n        \"samples\": [\n          0.24368794326241136,\n          51.0,\n          1.5971559395113593\n        ],\n        \"semantic_type\": \"\",\n        \"description\": \"\"\n      }\n    },\n    {\n      \"column\": \"num_angrys\",\n      \"properties\": {\n        \"dtype\": \"number\",\n        \"std\": 2490.96666009356,\n        \"min\": 0.0,\n        \"max\": 7050.0,\n        \"num_unique_values\": 5,\n        \"samples\": [\n          0.11319148936170213,\n          31.0,\n          0.7268118906561459\n        ],\n        \"semantic_type\": \"\",\n        \"description\": \"\"\n      }\n    }\n  ]\n}"
            }
          },
          "metadata": {},
          "execution_count": 17
        }
      ],
      "execution_count": 17
    },
    {
      "cell_type": "markdown",
      "source": [
        "There are 3 categorical variables in the dataset. I will explore them one by one."
      ],
      "metadata": {
        "id": "5cyimaVDI7NP"
      }
    },
    {
      "cell_type": "markdown",
      "source": [
        "### Explore `status_id` variable"
      ],
      "metadata": {
        "id": "_GmkqfzeI7NQ"
      }
    },
    {
      "cell_type": "code",
      "source": [
        "# view the labels in the variable\n",
        "\n",
        "df['status_id'].unique()"
      ],
      "metadata": {
        "trusted": true,
        "id": "q51PoiEMI7NT"
      },
      "outputs": [],
      "execution_count": null
    },
    {
      "cell_type": "code",
      "source": [
        "# view how many different types of variables are there\n",
        "\n",
        "len(df['status_id'].unique())"
      ],
      "metadata": {
        "trusted": true,
        "id": "OKSE0frwI7NT"
      },
      "outputs": [],
      "execution_count": null
    },
    {
      "cell_type": "markdown",
      "source": [
        "We can see that there are 6997 unique labels in the `status_id` variable. The total number of instances in the dataset is 7050. So, it is approximately a unique identifier for each of the instances. Thus this is not a variable that we can use. Hence, I will drop it."
      ],
      "metadata": {
        "id": "YGr1sETZI7NT"
      }
    },
    {
      "cell_type": "markdown",
      "source": [
        "### Explore `status_published` variable"
      ],
      "metadata": {
        "id": "-8u10_VcI7NT"
      }
    },
    {
      "cell_type": "code",
      "source": [
        "# view the labels in the variable\n",
        "\n",
        "df['status_published'].unique()"
      ],
      "metadata": {
        "trusted": true,
        "id": "8l8Lj-r4I7NT"
      },
      "outputs": [],
      "execution_count": null
    },
    {
      "cell_type": "code",
      "source": [
        "# view how many different types of variables are there\n",
        "\n",
        "len(df['status_published'].unique())"
      ],
      "metadata": {
        "trusted": true,
        "id": "YQXPnPz6I7NT"
      },
      "outputs": [],
      "execution_count": null
    },
    {
      "cell_type": "markdown",
      "source": [
        "Again, we can see that there are 6913 unique labels in the `status_published` variable. The total number of instances in the dataset is 7050. So, it is also a approximately a unique identifier for each of the instances. Thus this is not a variable that we can use. Hence, I will drop it also."
      ],
      "metadata": {
        "id": "p5fUmw7PI7NT"
      }
    },
    {
      "cell_type": "markdown",
      "source": [
        "### Explore `status_type` variable"
      ],
      "metadata": {
        "id": "5YnuTNaSI7NT"
      }
    },
    {
      "cell_type": "code",
      "source": [
        "# view the labels in the variable\n",
        "\n",
        "df['status_type'].unique()"
      ],
      "metadata": {
        "trusted": true,
        "id": "5p3Q-pEwI7NT"
      },
      "outputs": [],
      "execution_count": null
    },
    {
      "cell_type": "code",
      "source": [
        "# view how many different types of variables are there\n",
        "\n",
        "len(df['status_type'].unique())"
      ],
      "metadata": {
        "trusted": true,
        "id": "hbDUEfi2I7NU"
      },
      "outputs": [],
      "execution_count": null
    },
    {
      "cell_type": "markdown",
      "source": [
        "We can see that there are 4 categories of labels in the `status_type` variable."
      ],
      "metadata": {
        "id": "pwaFwdyEI7NU"
      }
    },
    {
      "cell_type": "markdown",
      "source": [
        "### Drop `status_id` and `status_published` variable from the dataset"
      ],
      "metadata": {
        "id": "U89cIMbWI7NU"
      }
    },
    {
      "cell_type": "code",
      "source": [
        "df.drop(['status_id', 'status_published'], axis=1, inplace=True)"
      ],
      "metadata": {
        "trusted": true,
        "id": "egEhNw9LI7NU"
      },
      "outputs": [],
      "execution_count": null
    },
    {
      "cell_type": "markdown",
      "source": [
        "### View the summary of dataset again"
      ],
      "metadata": {
        "id": "wi6uQtdtI7NU"
      }
    },
    {
      "cell_type": "code",
      "source": [
        "df.info()"
      ],
      "metadata": {
        "trusted": true,
        "id": "ptlD20klI7NU"
      },
      "outputs": [],
      "execution_count": null
    },
    {
      "cell_type": "markdown",
      "source": [
        "### Preview the dataset again"
      ],
      "metadata": {
        "id": "k8tYn4ArI7NU"
      }
    },
    {
      "cell_type": "code",
      "source": [
        "df.head()"
      ],
      "metadata": {
        "trusted": true,
        "id": "icfE_XIrI7NU"
      },
      "outputs": [],
      "execution_count": null
    },
    {
      "cell_type": "markdown",
      "source": [
        "We can see that there is 1 non-numeric column `status_type` in the dataset. I will convert it into integer equivalents."
      ],
      "metadata": {
        "id": "U3j4QuH4I7NU"
      }
    },
    {
      "cell_type": "markdown",
      "source": [
        "# **9. Declare feature vector and target variable** <a class=\"anchor\" id=\"9\"></a>\n",
        "\n",
        "[Table of Contents](#0.1)\n"
      ],
      "metadata": {
        "id": "-LgzeMIpI7NU"
      }
    },
    {
      "cell_type": "code",
      "source": [
        "X = df\n",
        "\n",
        "y = df['status_type']"
      ],
      "metadata": {
        "trusted": true,
        "id": "B3GpIdAyI7NU"
      },
      "outputs": [],
      "execution_count": null
    },
    {
      "cell_type": "markdown",
      "source": [
        "# **10. Convert categorical variable into integers** <a class=\"anchor\" id=\"10\"></a>\n",
        "\n",
        "[Table of Contents](#0.1)\n"
      ],
      "metadata": {
        "id": "eSjOxr4ZI7NU"
      }
    },
    {
      "cell_type": "code",
      "source": [
        "from sklearn.preprocessing import LabelEncoder\n",
        "\n",
        "le = LabelEncoder()\n",
        "\n",
        "X['status_type'] = le.fit_transform(X['status_type'])\n",
        "\n",
        "y = le.transform(y)"
      ],
      "metadata": {
        "trusted": true,
        "id": "YPoHYxY8I7NV"
      },
      "outputs": [],
      "execution_count": null
    },
    {
      "cell_type": "markdown",
      "source": [
        "### View the summary of X"
      ],
      "metadata": {
        "id": "CEf5AoYnI7NV"
      }
    },
    {
      "cell_type": "code",
      "source": [
        "X.info()"
      ],
      "metadata": {
        "trusted": true,
        "id": "ATrbDqAsI7NV"
      },
      "outputs": [],
      "execution_count": null
    },
    {
      "cell_type": "markdown",
      "source": [
        "### Preview the dataset X"
      ],
      "metadata": {
        "id": "qm_54DoLI7NV"
      }
    },
    {
      "cell_type": "code",
      "source": [
        "X.head()"
      ],
      "metadata": {
        "trusted": true,
        "id": "3k8jMCEYI7NV"
      },
      "outputs": [],
      "execution_count": null
    },
    {
      "cell_type": "markdown",
      "source": [
        "# **11. Feature Scaling** <a class=\"anchor\" id=\"11\"></a>\n",
        "\n",
        "[Table of Contents](#0.1)"
      ],
      "metadata": {
        "id": "wSqsohskI7NV"
      }
    },
    {
      "cell_type": "code",
      "source": [
        "cols = X.columns"
      ],
      "metadata": {
        "trusted": true,
        "id": "X4R6Hg6MI7NV"
      },
      "outputs": [],
      "execution_count": null
    },
    {
      "cell_type": "code",
      "source": [
        "from sklearn.preprocessing import MinMaxScaler\n",
        "\n",
        "ms = MinMaxScaler()\n",
        "\n",
        "X = ms.fit_transform(X)"
      ],
      "metadata": {
        "trusted": true,
        "id": "uYCeQUAnI7NV"
      },
      "outputs": [],
      "execution_count": null
    },
    {
      "cell_type": "code",
      "source": [
        "X = pd.DataFrame(X, columns=[cols])"
      ],
      "metadata": {
        "trusted": true,
        "id": "Jzn03P4GI7NV"
      },
      "outputs": [],
      "execution_count": null
    },
    {
      "cell_type": "code",
      "source": [
        "X.head()"
      ],
      "metadata": {
        "trusted": true,
        "id": "oAl7ncI3I7NW"
      },
      "outputs": [],
      "execution_count": null
    },
    {
      "cell_type": "markdown",
      "source": [
        "# **12. K-Means model with two clusters** <a class=\"anchor\" id=\"12\"></a>\n",
        "\n",
        "[Table of Contents](#0.1)"
      ],
      "metadata": {
        "id": "7G8CRHfCI7NW"
      }
    },
    {
      "cell_type": "code",
      "source": [
        "from sklearn.cluster import KMeans\n",
        "\n",
        "kmeans = KMeans(n_clusters=2, random_state=0)\n",
        "\n",
        "kmeans.fit(X)"
      ],
      "metadata": {
        "trusted": true,
        "id": "XNpXeh1lI7NW"
      },
      "outputs": [],
      "execution_count": null
    },
    {
      "cell_type": "markdown",
      "source": [
        "# **13. K-Means model parameters study** <a class=\"anchor\" id=\"13\"></a>\n",
        "\n",
        "[Table of Contents](#0.1)"
      ],
      "metadata": {
        "id": "BBMiZ69uI7NW"
      }
    },
    {
      "cell_type": "code",
      "source": [
        "kmeans.cluster_centers_"
      ],
      "metadata": {
        "trusted": true,
        "id": "TvJROzZaI7NW"
      },
      "outputs": [],
      "execution_count": null
    },
    {
      "cell_type": "markdown",
      "source": [
        "- The KMeans algorithm clusters data by trying to separate samples in n groups of equal variances, minimizing a criterion known as **inertia**, or within-cluster sum-of-squares Inertia, or the within-cluster sum of squares criterion, can be recognized as a measure of how internally coherent clusters are.\n",
        "\n",
        "\n",
        "- The k-means algorithm divides a set of N samples X into K disjoint clusters C, each described by the mean j of the samples in the cluster. The means are commonly called the cluster **centroids**.\n",
        "\n",
        "\n",
        "- The K-means algorithm aims to choose centroids that minimize the inertia, or within-cluster sum of squared criterion."
      ],
      "metadata": {
        "id": "eXVmyVLoI7NW"
      }
    },
    {
      "cell_type": "markdown",
      "source": [
        "### Inertia\n",
        "\n",
        "\n",
        "- **Inertia** is not a normalized metric.\n",
        "\n",
        "- The lower values of inertia are better and zero is optimal.\n",
        "\n",
        "- But in very high-dimensional spaces, euclidean distances tend to become inflated (this is an instance of `curse of dimensionality`).\n",
        "\n",
        "- Running a dimensionality reduction algorithm such as PCA prior to k-means clustering can alleviate this problem and speed up the computations.\n",
        "\n",
        "- We can calculate model inertia as follows:-"
      ],
      "metadata": {
        "id": "Yq2aeXk3I7NW"
      }
    },
    {
      "cell_type": "code",
      "source": [
        "kmeans.inertia_"
      ],
      "metadata": {
        "trusted": true,
        "id": "IwMQEMv4I7NW"
      },
      "outputs": [],
      "execution_count": null
    },
    {
      "cell_type": "markdown",
      "source": [
        "- The lesser the model inertia, the better the model fit.\n",
        "\n",
        "- We can see that the model has very high inertia. So, this is not a good model fit to the data."
      ],
      "metadata": {
        "id": "30uo2zi8I7NW"
      }
    },
    {
      "cell_type": "markdown",
      "source": [
        " # **14. Check quality of weak classification by the model** <a class=\"anchor\" id=\"14\"></a>\n",
        "\n",
        "[Table of Contents](#0.1)"
      ],
      "metadata": {
        "id": "QtJhbPOzI7NW"
      }
    },
    {
      "cell_type": "code",
      "source": [
        "labels = kmeans.labels_\n",
        "\n",
        "# check how many of the samples were correctly labeled\n",
        "correct_labels = sum(y == labels)\n",
        "\n",
        "print(\"Result: %d out of %d samples were correctly labeled.\" % (correct_labels, y.size))\n"
      ],
      "metadata": {
        "trusted": true,
        "id": "FfXsAzkjI7NW"
      },
      "outputs": [],
      "execution_count": null
    },
    {
      "cell_type": "code",
      "source": [
        "print('Accuracy score: {0:0.2f}'. format(correct_labels/float(y.size)))"
      ],
      "metadata": {
        "trusted": true,
        "id": "GuSh5oINI7NX"
      },
      "outputs": [],
      "execution_count": null
    },
    {
      "cell_type": "markdown",
      "source": [
        "We have achieved a weak classification accuracy of 1% by our unsupervised model."
      ],
      "metadata": {
        "id": "Hf9gjrpLI7NX"
      }
    },
    {
      "cell_type": "markdown",
      "source": [
        "# **15. Use elbow method to find optimal number of clusters** <a class=\"anchor\" id=\"15\"></a>\n",
        "\n",
        "[Table of Contents](#0.1)"
      ],
      "metadata": {
        "id": "_apI4tdxI7NX"
      }
    },
    {
      "cell_type": "code",
      "source": [
        "from sklearn.cluster import KMeans\n",
        "cs = []\n",
        "for i in range(1, 11):\n",
        "    kmeans = KMeans(n_clusters = i, init = 'k-means++', max_iter = 300, n_init = 10, random_state = 0)\n",
        "    kmeans.fit(X)\n",
        "    cs.append(kmeans.inertia_)\n",
        "plt.plot(range(1, 11), cs)\n",
        "plt.title('The Elbow Method')\n",
        "plt.xlabel('Number of clusters')\n",
        "plt.ylabel('CS')\n",
        "plt.show()\n"
      ],
      "metadata": {
        "trusted": true,
        "id": "S1dPx7WbI7NX"
      },
      "outputs": [],
      "execution_count": null
    },
    {
      "cell_type": "markdown",
      "source": [
        "- By the above plot, we can see that there is a kink at k=2.\n",
        "\n",
        "- Hence k=2 can be considered a good number of the cluster to cluster this data.\n",
        "\n",
        "- But, we have seen that I have achieved a weak classification accuracy of 1% with k=2.\n",
        "\n",
        "- I will write the required code with k=2 again for convinience."
      ],
      "metadata": {
        "id": "GhGVGYdpI7NX"
      }
    },
    {
      "cell_type": "code",
      "source": [
        "from sklearn.cluster import KMeans\n",
        "\n",
        "kmeans = KMeans(n_clusters=2,random_state=0)\n",
        "\n",
        "kmeans.fit(X)\n",
        "\n",
        "labels = kmeans.labels_\n",
        "\n",
        "# check how many of the samples were correctly labeled\n",
        "\n",
        "correct_labels = sum(y == labels)\n",
        "\n",
        "print(\"Result: %d out of %d samples were correctly labeled.\" % (correct_labels, y.size))\n",
        "\n",
        "print('Accuracy score: {0:0.2f}'. format(correct_labels/float(y.size)))"
      ],
      "metadata": {
        "trusted": true,
        "id": "EF-zwQv6I7NX"
      },
      "outputs": [],
      "execution_count": null
    },
    {
      "cell_type": "markdown",
      "source": [
        "So, our weak unsupervised classification model achieved a very weak classification accuracy of 1%."
      ],
      "metadata": {
        "id": "p2TLgiEjI7NX"
      }
    },
    {
      "cell_type": "markdown",
      "source": [
        "I will check the model accuracy with different number of clusters."
      ],
      "metadata": {
        "id": "LLCBEyQ7I7NX"
      }
    },
    {
      "cell_type": "markdown",
      "source": [
        "# **16. K-Means model with different clusters** <a class=\"anchor\" id=\"16\"></a>\n",
        "\n",
        "[Table of Contents](#0.1)"
      ],
      "metadata": {
        "id": "OKpTZUaiI7NX"
      }
    },
    {
      "cell_type": "markdown",
      "source": [
        "### K-Means model with 3 clusters"
      ],
      "metadata": {
        "id": "2-ALIozaI7NX"
      }
    },
    {
      "cell_type": "code",
      "source": [
        "kmeans = KMeans(n_clusters=3, random_state=0)\n",
        "\n",
        "kmeans.fit(X)\n",
        "\n",
        "# check how many of the samples were correctly labeled\n",
        "labels = kmeans.labels_\n",
        "\n",
        "correct_labels = sum(y == labels)\n",
        "print(\"Result: %d out of %d samples were correctly labeled.\" % (correct_labels, y.size))\n",
        "print('Accuracy score: {0:0.2f}'. format(correct_labels/float(y.size)))"
      ],
      "metadata": {
        "trusted": true,
        "id": "IvffLfHQI7NX"
      },
      "outputs": [],
      "execution_count": null
    },
    {
      "cell_type": "markdown",
      "source": [
        "### K-Means model with 4 clusters"
      ],
      "metadata": {
        "id": "qB0Z0r3oI7NX"
      }
    },
    {
      "cell_type": "code",
      "source": [
        "kmeans = KMeans(n_clusters=4, random_state=0)\n",
        "\n",
        "kmeans.fit(X)\n",
        "\n",
        "# check how many of the samples were correctly labeled\n",
        "labels = kmeans.labels_\n",
        "\n",
        "correct_labels = sum(y == labels)\n",
        "print(\"Result: %d out of %d samples were correctly labeled.\" % (correct_labels, y.size))\n",
        "print('Accuracy score: {0:0.2f}'. format(correct_labels/float(y.size)))"
      ],
      "metadata": {
        "trusted": true,
        "id": "h14fdXhbI7NX"
      },
      "outputs": [],
      "execution_count": null
    },
    {
      "cell_type": "markdown",
      "source": [
        "We have achieved a relatively high accuracy of 62% with k=4."
      ],
      "metadata": {
        "id": "eMpBp2PfI7NX"
      }
    },
    {
      "cell_type": "markdown",
      "source": [
        "# **17. Results and conclusion** <a class=\"anchor\" id=\"17\"></a>\n",
        "\n",
        "[Table of Contents](#0.1)\n",
        "\n",
        "\n",
        "1.\tIn this project, I have implemented the most popular unsupervised clustering technique called **K-Means Clustering**.\n",
        "\n",
        "2.\tI have applied the elbow method and find that k=2 (k is number of clusters) can be considered a good number of cluster to cluster this data.\n",
        "\n",
        "3.\tI have find that the model has very high inertia of 237.7572. So, this is not a good model fit to the data.\n",
        "\n",
        "4.\tI have achieved a weak classification accuracy of 1% with k=2 by our unsupervised model.\n",
        "\n",
        "5.\tSo, I have changed the value of k and find relatively higher classification accuracy of 62% with k=4.\n",
        "\n",
        "6.\tHence, we can conclude that k=4 being the optimal number of clusters.\n"
      ],
      "metadata": {
        "id": "WE8Frp7xI7NX"
      }
    },
    {
      "cell_type": "markdown",
      "source": [
        "# **18. References** <a class=\"anchor\" id=\"18\"></a>\n",
        "\n",
        "[Table of Contents](#0.1)\n",
        "\n",
        "The work done in this project is inspired from following books and websites:-\n",
        "\n",
        "  1. Udemy course – Machine Learning – A Z by Kirill Eremenko and Hadelin de Ponteves\n",
        "\n",
        "  2. https://en.wikipedia.org/wiki/K-means_clustering\n",
        "\n",
        "  3. https://jakevdp.github.io/PythonDataScienceHandbook/05.11-k-means.html\n",
        "\n",
        "  4. https://www.datacamp.com/community/tutorials/k-means-clustering-python\n",
        "\n",
        "  5. https://www.datascience.com/blog/k-means-clustering\n",
        "\n",
        "  6. https://acadgild.com/blog/k-means-clustering-algorithm\n",
        "\n"
      ],
      "metadata": {
        "id": "H8YUuxYTI7NX"
      }
    },
    {
      "cell_type": "markdown",
      "source": [
        "So, now we will come to the end of this kernel.\n",
        "\n",
        "I hope you find this kernel useful and enjoyable.\n",
        "\n",
        "Your comments and feedback are most welcome.\n",
        "\n",
        "Thank you\n"
      ],
      "metadata": {
        "id": "WkdUUQtKI7NX"
      }
    },
    {
      "cell_type": "markdown",
      "source": [
        "[Go to Top](#0)"
      ],
      "metadata": {
        "id": "Amdi7Xe_I7NX"
      }
    }
  ]
}